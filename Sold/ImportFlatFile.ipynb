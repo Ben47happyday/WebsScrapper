{
 "metadata": {
  "language_info": {
   "codemirror_mode": {
    "name": "ipython",
    "version": 3
   },
   "file_extension": ".py",
   "mimetype": "text/x-python",
   "name": "python",
   "nbconvert_exporter": "python",
   "pygments_lexer": "ipython3",
   "version": "3.7.4-final"
  },
  "orig_nbformat": 2,
  "kernelspec": {
   "name": "python37432bit9fa751f400b24c8091527e7a1fd63d46",
   "display_name": "Python 3.7.4 32-bit"
  }
 },
 "nbformat": 4,
 "nbformat_minor": 2,
 "cells": [
  {
   "cell_type": "code",
   "execution_count": null,
   "metadata": {
    "tags": [
     "outputPrepend"
    ]
   },
   "outputs": [],
   "source": [
    "import csv\n",
    "from pyodbc import connect as cnn \n",
    "from Config import Configure as cfg\n",
    "\n",
    "_conn = cnn (cfg.SQL_Server_DB_CNString)\n",
    "cursor = _conn.cursor()\n",
    "s = 1 \n",
    "with open(r\"C:\\Users\\Benjamin\\Desktop\\suburbs.csv\",'r') as f:\n",
    "    sb = csv.reader(f)\n",
    "    for row in sb:\n",
    "        print(row[0],row[1],row[2])\n",
    "        l = [row[0],row[1],row[2]]  \n",
    "        p = [tuple(l)]\n",
    "        if len(p[0]) == 3:\n",
    "            cursor.executemany(\"insert into suburb values (?,?,?)\", p)\n",
    "\n"
   ]
  }
 ]
}